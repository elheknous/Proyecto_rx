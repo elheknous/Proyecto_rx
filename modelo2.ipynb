{
 "cells": [
  {
   "cell_type": "code",
   "execution_count": 5,
   "id": "00c22ebe",
   "metadata": {},
   "outputs": [
    {
     "name": "stdout",
     "output_type": "stream",
     "text": [
      "Downloading: \"https://github.com/ultralytics/yolov5/zipball/master\" to C:\\Users\\josem/.cache\\torch\\hub\\master.zip\n"
     ]
    },
    {
     "name": "stderr",
     "output_type": "stream",
     "text": [
      "YOLOv5  2025-6-20 Python-3.12.3 torch-2.7.1+cpu CPU\n",
      "\n",
      "Fusing layers... \n",
      "Model summary: 157 layers, 7015519 parameters, 0 gradients, 15.8 GFLOPs\n",
      "Adding AutoShape... \n",
      "C:\\Users\\josem/.cache\\torch\\hub\\ultralytics_yolov5_master\\models\\common.py:906: FutureWarning: `torch.cuda.amp.autocast(args...)` is deprecated. Please use `torch.amp.autocast('cuda', args...)` instead.\n",
      "  with amp.autocast(autocast):\n"
     ]
    },
    {
     "name": "stdout",
     "output_type": "stream",
     "text": [
      "Umbral de confianza ajustado a: 0.85\n",
      "\n",
      "Procesando: foto1.jpg\n",
      "\n",
      "=== RESULTADOS DE DETECCIÓN ===\n",
      "          xmin        ymin         xmax        ymax  confidence  class    name\n",
      "0  1125.377930  423.064667  1317.512451  789.884583    0.905476      1     inc\n",
      "1  1014.740540  357.157715  1124.827148  654.925049    0.893814      0  canine\n",
      "2  1322.564209  358.320679  1442.859253  640.608582    0.890626      0  canine\n",
      "Línea media trazada en x=1221\n",
      "Guardado en: Output/prueba_modelo\\foto1_analizada_m2.jpg\n",
      "\n",
      "Procesando: foto10.jpg\n",
      "\n",
      "=== RESULTADOS DE DETECCIÓN ===\n",
      "          xmin        ymin         xmax        ymax  confidence  class    name\n",
      "0  1134.095581  497.796387  1315.079468  788.204834    0.920623      1     inc\n",
      "1  1347.212769  404.901581  1464.056152  579.605957    0.916210      0  canine\n",
      "2  1004.301208  373.699646  1124.172729  554.052307    0.882987      0  canine\n",
      "Línea media trazada en x=1224\n"
     ]
    },
    {
     "name": "stderr",
     "output_type": "stream",
     "text": [
      "C:\\Users\\josem/.cache\\torch\\hub\\ultralytics_yolov5_master\\models\\common.py:906: FutureWarning: `torch.cuda.amp.autocast(args...)` is deprecated. Please use `torch.amp.autocast('cuda', args...)` instead.\n",
      "  with amp.autocast(autocast):\n"
     ]
    },
    {
     "name": "stdout",
     "output_type": "stream",
     "text": [
      "Guardado en: Output/prueba_modelo\\foto10_analizada_m2.jpg\n",
      "\n",
      "Procesando: foto11.jpg\n"
     ]
    },
    {
     "name": "stderr",
     "output_type": "stream",
     "text": [
      "C:\\Users\\josem/.cache\\torch\\hub\\ultralytics_yolov5_master\\models\\common.py:906: FutureWarning: `torch.cuda.amp.autocast(args...)` is deprecated. Please use `torch.amp.autocast('cuda', args...)` instead.\n",
      "  with amp.autocast(autocast):\n"
     ]
    },
    {
     "name": "stdout",
     "output_type": "stream",
     "text": [
      "\n",
      "=== RESULTADOS DE DETECCIÓN ===\n",
      "          xmin        ymin         xmax        ymax  confidence  class    name\n",
      "0  1356.277954  388.010834  1477.882202  686.760620    0.921907      0  canine\n",
      "1  1166.801880  460.973999  1339.136230  801.163818    0.910882      1     inc\n",
      "2  1022.351013  396.204956  1165.814209  679.808655    0.909837      0  canine\n",
      "Línea media trazada en x=1252\n",
      "Guardado en: Output/prueba_modelo\\foto11_analizada_m2.jpg\n",
      "\n",
      "Procesando: foto12.jpg\n",
      "\n",
      "=== RESULTADOS DE DETECCIÓN ===\n",
      "          xmin        ymin         xmax        ymax  confidence  class    name\n",
      "0  1145.961182  458.071594  1337.910400  774.690125    0.928491      1     inc\n",
      "1  1000.711243  345.042786  1127.462646  543.005188    0.903363      0  canine\n",
      "Línea media trazada en x=1241\n"
     ]
    },
    {
     "name": "stderr",
     "output_type": "stream",
     "text": [
      "C:\\Users\\josem/.cache\\torch\\hub\\ultralytics_yolov5_master\\models\\common.py:906: FutureWarning: `torch.cuda.amp.autocast(args...)` is deprecated. Please use `torch.amp.autocast('cuda', args...)` instead.\n",
      "  with amp.autocast(autocast):\n"
     ]
    },
    {
     "name": "stdout",
     "output_type": "stream",
     "text": [
      "Guardado en: Output/prueba_modelo\\foto12_analizada_m2.jpg\n",
      "\n",
      "Procesando: foto13.jpg\n",
      "\n",
      "=== RESULTADOS DE DETECCIÓN ===\n",
      "          xmin        ymin         xmax        ymax  confidence  class    name\n",
      "0  1133.570435  472.638153  1299.950073  785.201172    0.940831      1     inc\n",
      "1  1299.996216  330.076202  1413.214233  565.421936    0.913864      0  canine\n",
      "2  1009.078247  352.605835  1118.520020  594.523926    0.883173      0  canine\n",
      "Línea media trazada en x=1216\n"
     ]
    },
    {
     "name": "stderr",
     "output_type": "stream",
     "text": [
      "C:\\Users\\josem/.cache\\torch\\hub\\ultralytics_yolov5_master\\models\\common.py:906: FutureWarning: `torch.cuda.amp.autocast(args...)` is deprecated. Please use `torch.amp.autocast('cuda', args...)` instead.\n",
      "  with amp.autocast(autocast):\n"
     ]
    },
    {
     "name": "stdout",
     "output_type": "stream",
     "text": [
      "Guardado en: Output/prueba_modelo\\foto13_analizada_m2.jpg\n",
      "\n",
      "Procesando: foto14.jpg\n",
      "\n",
      "=== RESULTADOS DE DETECCIÓN ===\n",
      "          xmin        ymin         xmax        ymax  confidence  class    name\n",
      "0  1141.312988  474.730927  1314.617065  780.513000    0.944265      1     inc\n",
      "1  1329.940186  373.381073  1452.020020  605.247070    0.921733      0  canine\n",
      "2   997.897156  386.303711  1118.613403  611.815552    0.887688      0  canine\n",
      "Línea media trazada en x=1227\n"
     ]
    },
    {
     "name": "stderr",
     "output_type": "stream",
     "text": [
      "C:\\Users\\josem/.cache\\torch\\hub\\ultralytics_yolov5_master\\models\\common.py:906: FutureWarning: `torch.cuda.amp.autocast(args...)` is deprecated. Please use `torch.amp.autocast('cuda', args...)` instead.\n",
      "  with amp.autocast(autocast):\n"
     ]
    },
    {
     "name": "stdout",
     "output_type": "stream",
     "text": [
      "Guardado en: Output/prueba_modelo\\foto14_analizada_m2.jpg\n",
      "\n",
      "Procesando: foto15.jpg\n",
      "\n",
      "=== RESULTADOS DE DETECCIÓN ===\n",
      "          xmin        ymin         xmax        ymax  confidence  class    name\n",
      "0  1151.840576  533.650391  1306.806519  781.974121    0.929931      1     inc\n",
      "1  1315.056519  412.138519  1436.386108  596.285828    0.882003      0  canine\n",
      "2  1029.864868  419.740723  1136.436157  595.206665    0.862501      0  canine\n",
      "Línea media trazada en x=1228\n"
     ]
    },
    {
     "name": "stderr",
     "output_type": "stream",
     "text": [
      "C:\\Users\\josem/.cache\\torch\\hub\\ultralytics_yolov5_master\\models\\common.py:906: FutureWarning: `torch.cuda.amp.autocast(args...)` is deprecated. Please use `torch.amp.autocast('cuda', args...)` instead.\n",
      "  with amp.autocast(autocast):\n"
     ]
    },
    {
     "name": "stdout",
     "output_type": "stream",
     "text": [
      "Guardado en: Output/prueba_modelo\\foto15_analizada_m2.jpg\n",
      "\n",
      "Procesando: foto16.jpg\n",
      "\n",
      "=== RESULTADOS DE DETECCIÓN ===\n",
      "          xmin        ymin         xmax        ymax  confidence  class    name\n",
      "0  1110.716309  419.791412  1302.686157  783.260498    0.929125      1     inc\n",
      "1  1298.541382  331.058319  1426.483521  595.310120    0.908226      0  canine\n",
      "2   999.765930  333.604187  1121.615112  605.819092    0.906399      0  canine\n",
      "Línea media trazada en x=1206\n"
     ]
    },
    {
     "name": "stderr",
     "output_type": "stream",
     "text": [
      "C:\\Users\\josem/.cache\\torch\\hub\\ultralytics_yolov5_master\\models\\common.py:906: FutureWarning: `torch.cuda.amp.autocast(args...)` is deprecated. Please use `torch.amp.autocast('cuda', args...)` instead.\n",
      "  with amp.autocast(autocast):\n"
     ]
    },
    {
     "name": "stdout",
     "output_type": "stream",
     "text": [
      "Guardado en: Output/prueba_modelo\\foto16_analizada_m2.jpg\n",
      "\n",
      "Procesando: foto17.jpg\n",
      "\n",
      "=== RESULTADOS DE DETECCIÓN ===\n",
      "          xmin        ymin        xmax        ymax  confidence  class    name\n",
      "0  1136.817139  497.385254  1313.30481  799.168579    0.945776      1     inc\n",
      "1  1328.597778  385.417725  1447.14209  653.574463    0.907158      0  canine\n",
      "Línea media trazada en x=1224\n"
     ]
    },
    {
     "name": "stderr",
     "output_type": "stream",
     "text": [
      "C:\\Users\\josem/.cache\\torch\\hub\\ultralytics_yolov5_master\\models\\common.py:906: FutureWarning: `torch.cuda.amp.autocast(args...)` is deprecated. Please use `torch.amp.autocast('cuda', args...)` instead.\n",
      "  with amp.autocast(autocast):\n"
     ]
    },
    {
     "name": "stdout",
     "output_type": "stream",
     "text": [
      "Guardado en: Output/prueba_modelo\\foto17_analizada_m2.jpg\n",
      "\n",
      "Procesando: foto18.jpg\n",
      "\n",
      "=== RESULTADOS DE DETECCIÓN ===\n",
      "          xmin        ymin         xmax        ymax  confidence  class    name\n",
      "0  1157.040894  467.949036  1326.853271  771.054810    0.895645      1     inc\n",
      "1  1025.392944  372.685333  1146.005859  571.671814    0.887231      0  canine\n",
      "Línea media trazada en x=1241\n"
     ]
    },
    {
     "name": "stderr",
     "output_type": "stream",
     "text": [
      "C:\\Users\\josem/.cache\\torch\\hub\\ultralytics_yolov5_master\\models\\common.py:906: FutureWarning: `torch.cuda.amp.autocast(args...)` is deprecated. Please use `torch.amp.autocast('cuda', args...)` instead.\n",
      "  with amp.autocast(autocast):\n"
     ]
    },
    {
     "name": "stdout",
     "output_type": "stream",
     "text": [
      "Guardado en: Output/prueba_modelo\\foto18_analizada_m2.jpg\n",
      "\n",
      "Procesando: foto19.jpg\n",
      "\n",
      "=== RESULTADOS DE DETECCIÓN ===\n",
      "Empty DataFrame\n",
      "Columns: [xmin, ymin, xmax, ymax, confidence, class, name]\n",
      "Index: []\n",
      "No se detectaron incisivos; no se puede trazar la línea media.\n"
     ]
    },
    {
     "name": "stderr",
     "output_type": "stream",
     "text": [
      "C:\\Users\\josem/.cache\\torch\\hub\\ultralytics_yolov5_master\\models\\common.py:906: FutureWarning: `torch.cuda.amp.autocast(args...)` is deprecated. Please use `torch.amp.autocast('cuda', args...)` instead.\n",
      "  with amp.autocast(autocast):\n",
      "C:\\Users\\josem/.cache\\torch\\hub\\ultralytics_yolov5_master\\models\\common.py:906: FutureWarning: `torch.cuda.amp.autocast(args...)` is deprecated. Please use `torch.amp.autocast('cuda', args...)` instead.\n",
      "  with amp.autocast(autocast):\n"
     ]
    },
    {
     "name": "stdout",
     "output_type": "stream",
     "text": [
      "\n",
      "Procesando: foto2.jpg\n",
      "\n",
      "=== RESULTADOS DE DETECCIÓN ===\n",
      "          xmin        ymin         xmax        ymax  confidence  class    name\n",
      "0   964.097229  373.007721  1132.734131  634.545288    0.937535      0  canine\n",
      "1  1161.535767  438.908508  1351.459595  773.624817    0.906745      1     inc\n",
      "2  1392.684692  385.553223  1526.581055  639.591553    0.858305      0  canine\n",
      "Línea media trazada en x=1256\n",
      "Guardado en: Output/prueba_modelo\\foto2_analizada_m2.jpg\n",
      "\n",
      "Procesando: foto20.jpg\n",
      "\n",
      "=== RESULTADOS DE DETECCIÓN ===\n",
      "          xmin        ymin         xmax        ymax  confidence  class    name\n",
      "0  1287.369629  284.146667  1427.596558  530.665955    0.943728      0  canine\n",
      "1  1102.213379  441.385376  1296.035156  798.654419    0.938590      1     inc\n",
      "2   983.102417  312.224854  1110.120728  566.620544    0.912694      0  canine\n",
      "Línea media trazada en x=1199\n"
     ]
    },
    {
     "name": "stderr",
     "output_type": "stream",
     "text": [
      "C:\\Users\\josem/.cache\\torch\\hub\\ultralytics_yolov5_master\\models\\common.py:906: FutureWarning: `torch.cuda.amp.autocast(args...)` is deprecated. Please use `torch.amp.autocast('cuda', args...)` instead.\n",
      "  with amp.autocast(autocast):\n"
     ]
    },
    {
     "name": "stdout",
     "output_type": "stream",
     "text": [
      "Guardado en: Output/prueba_modelo\\foto20_analizada_m2.jpg\n",
      "\n",
      "Procesando: foto21.jpg\n",
      "\n",
      "=== RESULTADOS DE DETECCIÓN ===\n",
      "          xmin        ymin         xmax        ymax  confidence  class    name\n",
      "0   940.824951  313.195374  1050.232544  532.460510    0.896714      0  canine\n",
      "1  1183.496704  314.137299  1287.615601  534.120789    0.872739      0  canine\n",
      "No se detectaron incisivos; no se puede trazar la línea media.\n",
      "\n",
      "Procesando: foto22.jpg\n"
     ]
    },
    {
     "name": "stderr",
     "output_type": "stream",
     "text": [
      "C:\\Users\\josem/.cache\\torch\\hub\\ultralytics_yolov5_master\\models\\common.py:906: FutureWarning: `torch.cuda.amp.autocast(args...)` is deprecated. Please use `torch.amp.autocast('cuda', args...)` instead.\n",
      "  with amp.autocast(autocast):\n",
      "C:\\Users\\josem/.cache\\torch\\hub\\ultralytics_yolov5_master\\models\\common.py:906: FutureWarning: `torch.cuda.amp.autocast(args...)` is deprecated. Please use `torch.amp.autocast('cuda', args...)` instead.\n",
      "  with amp.autocast(autocast):\n"
     ]
    },
    {
     "name": "stdout",
     "output_type": "stream",
     "text": [
      "\n",
      "=== RESULTADOS DE DETECCIÓN ===\n",
      "          xmin        ymin         xmax        ymax  confidence  class    name\n",
      "0  1145.182251  475.498932  1316.268311  785.562683    0.940118      1     inc\n",
      "1  1322.367065  357.519836  1458.661499  607.796692    0.918486      0  canine\n",
      "2  1002.607056  370.294159  1137.910767  603.191040    0.910153      0  canine\n",
      "Línea media trazada en x=1230\n",
      "Guardado en: Output/prueba_modelo\\foto22_analizada_m2.jpg\n",
      "\n",
      "Procesando: foto23.jpg\n",
      "\n",
      "=== RESULTADOS DE DETECCIÓN ===\n",
      "          xmin        ymin         xmax        ymax  confidence  class    name\n",
      "0  1244.878418  457.079620  1430.578979  780.288879    0.945043      1     inc\n",
      "1  1109.418823  352.744995  1227.410767  671.222717    0.887136      0  canine\n",
      "Línea media trazada en x=1337\n"
     ]
    },
    {
     "name": "stderr",
     "output_type": "stream",
     "text": [
      "C:\\Users\\josem/.cache\\torch\\hub\\ultralytics_yolov5_master\\models\\common.py:906: FutureWarning: `torch.cuda.amp.autocast(args...)` is deprecated. Please use `torch.amp.autocast('cuda', args...)` instead.\n",
      "  with amp.autocast(autocast):\n"
     ]
    },
    {
     "name": "stdout",
     "output_type": "stream",
     "text": [
      "Guardado en: Output/prueba_modelo\\foto23_analizada_m2.jpg\n",
      "\n",
      "Procesando: foto24.jpg\n",
      "\n",
      "=== RESULTADOS DE DETECCIÓN ===\n",
      "          xmin        ymin         xmax        ymax  confidence  class    name\n",
      "0  1124.210815  480.259247  1281.977661  785.346436    0.929859      1     inc\n",
      "1  1278.552246  392.153717  1431.808228  634.513000    0.907484      0  canine\n",
      "2   961.876221  445.976288  1118.869263  666.773193    0.874831      0  canine\n",
      "Línea media trazada en x=1202\n"
     ]
    },
    {
     "name": "stderr",
     "output_type": "stream",
     "text": [
      "C:\\Users\\josem/.cache\\torch\\hub\\ultralytics_yolov5_master\\models\\common.py:906: FutureWarning: `torch.cuda.amp.autocast(args...)` is deprecated. Please use `torch.amp.autocast('cuda', args...)` instead.\n",
      "  with amp.autocast(autocast):\n"
     ]
    },
    {
     "name": "stdout",
     "output_type": "stream",
     "text": [
      "Guardado en: Output/prueba_modelo\\foto24_analizada_m2.jpg\n",
      "\n",
      "Procesando: foto25.jpg\n",
      "\n",
      "=== RESULTADOS DE DETECCIÓN ===\n",
      "          xmin        ymin         xmax        ymax  confidence  class    name\n",
      "0  1153.965210  348.974091  1254.417358  660.631958    0.878728      0  canine\n",
      "1  1276.000122  476.865082  1439.979980  802.027588    0.877276      1     inc\n",
      "Línea media trazada en x=1357\n"
     ]
    },
    {
     "name": "stderr",
     "output_type": "stream",
     "text": [
      "C:\\Users\\josem/.cache\\torch\\hub\\ultralytics_yolov5_master\\models\\common.py:906: FutureWarning: `torch.cuda.amp.autocast(args...)` is deprecated. Please use `torch.amp.autocast('cuda', args...)` instead.\n",
      "  with amp.autocast(autocast):\n"
     ]
    },
    {
     "name": "stdout",
     "output_type": "stream",
     "text": [
      "Guardado en: Output/prueba_modelo\\foto25_analizada_m2.jpg\n",
      "\n",
      "Procesando: foto26.jpg\n",
      "\n",
      "=== RESULTADOS DE DETECCIÓN ===\n",
      "          xmin        ymin         xmax        ymax  confidence  class    name\n",
      "0  1149.646240  483.387970  1323.633423  789.927612    0.907479      1     inc\n",
      "1  1322.449341  345.819122  1439.742676  583.305237    0.893388      0  canine\n",
      "2  1036.497070  334.664307  1151.318604  610.532959    0.884668      0  canine\n",
      "Línea media trazada en x=1236\n"
     ]
    },
    {
     "name": "stderr",
     "output_type": "stream",
     "text": [
      "C:\\Users\\josem/.cache\\torch\\hub\\ultralytics_yolov5_master\\models\\common.py:906: FutureWarning: `torch.cuda.amp.autocast(args...)` is deprecated. Please use `torch.amp.autocast('cuda', args...)` instead.\n",
      "  with amp.autocast(autocast):\n"
     ]
    },
    {
     "name": "stdout",
     "output_type": "stream",
     "text": [
      "Guardado en: Output/prueba_modelo\\foto26_analizada_m2.jpg\n",
      "\n",
      "Procesando: foto27.jpg\n",
      "\n",
      "=== RESULTADOS DE DETECCIÓN ===\n",
      "          xmin        ymin         xmax        ymax  confidence  class    name\n",
      "0  1149.558228  463.544556  1337.749390  785.232727    0.904883      1     inc\n",
      "1  1015.260376  381.495697  1133.023193  586.148438    0.889881      0  canine\n",
      "Línea media trazada en x=1243\n"
     ]
    },
    {
     "name": "stderr",
     "output_type": "stream",
     "text": [
      "C:\\Users\\josem/.cache\\torch\\hub\\ultralytics_yolov5_master\\models\\common.py:906: FutureWarning: `torch.cuda.amp.autocast(args...)` is deprecated. Please use `torch.amp.autocast('cuda', args...)` instead.\n",
      "  with amp.autocast(autocast):\n"
     ]
    },
    {
     "name": "stdout",
     "output_type": "stream",
     "text": [
      "Guardado en: Output/prueba_modelo\\foto27_analizada_m2.jpg\n",
      "\n",
      "Procesando: foto28.jpg\n",
      "\n",
      "=== RESULTADOS DE DETECCIÓN ===\n",
      "          xmin        ymin         xmax        ymax  confidence  class    name\n",
      "0  1139.164551  485.828278  1328.320312  793.821472    0.941640      1     inc\n",
      "1  1006.445129  351.924896  1133.814575  588.533752    0.901780      0  canine\n",
      "2  1333.401489  334.018616  1448.658203  592.438721    0.895623      0  canine\n",
      "Línea media trazada en x=1233\n"
     ]
    },
    {
     "name": "stderr",
     "output_type": "stream",
     "text": [
      "C:\\Users\\josem/.cache\\torch\\hub\\ultralytics_yolov5_master\\models\\common.py:906: FutureWarning: `torch.cuda.amp.autocast(args...)` is deprecated. Please use `torch.amp.autocast('cuda', args...)` instead.\n",
      "  with amp.autocast(autocast):\n"
     ]
    },
    {
     "name": "stdout",
     "output_type": "stream",
     "text": [
      "Guardado en: Output/prueba_modelo\\foto28_analizada_m2.jpg\n",
      "\n",
      "Procesando: foto29.jpg\n",
      "\n",
      "=== RESULTADOS DE DETECCIÓN ===\n",
      "          xmin        ymin         xmax        ymax  confidence  class    name\n",
      "0  1244.951172  452.188782  1440.292969  796.132996    0.953234      1     inc\n",
      "1  1449.923828  365.380188  1577.096313  571.715698    0.850758      0  canine\n",
      "Línea media trazada en x=1342\n"
     ]
    },
    {
     "name": "stderr",
     "output_type": "stream",
     "text": [
      "C:\\Users\\josem/.cache\\torch\\hub\\ultralytics_yolov5_master\\models\\common.py:906: FutureWarning: `torch.cuda.amp.autocast(args...)` is deprecated. Please use `torch.amp.autocast('cuda', args...)` instead.\n",
      "  with amp.autocast(autocast):\n"
     ]
    },
    {
     "name": "stdout",
     "output_type": "stream",
     "text": [
      "Guardado en: Output/prueba_modelo\\foto29_analizada_m2.jpg\n",
      "\n",
      "Procesando: foto3.jpg\n",
      "\n",
      "=== RESULTADOS DE DETECCIÓN ===\n",
      "          xmin        ymin         xmax        ymax  confidence  class    name\n",
      "0  1169.107300  441.760223  1340.023071  781.725281    0.915781      1     inc\n",
      "1  1031.080200  338.905762  1154.656616  543.653259    0.873869      0  canine\n",
      "2  1366.908936  355.143555  1487.561157  544.706177    0.865526      0  canine\n",
      "Línea media trazada en x=1254\n"
     ]
    },
    {
     "name": "stderr",
     "output_type": "stream",
     "text": [
      "C:\\Users\\josem/.cache\\torch\\hub\\ultralytics_yolov5_master\\models\\common.py:906: FutureWarning: `torch.cuda.amp.autocast(args...)` is deprecated. Please use `torch.amp.autocast('cuda', args...)` instead.\n",
      "  with amp.autocast(autocast):\n"
     ]
    },
    {
     "name": "stdout",
     "output_type": "stream",
     "text": [
      "Guardado en: Output/prueba_modelo\\foto3_analizada_m2.jpg\n",
      "\n",
      "Procesando: foto30.jpg\n",
      "\n",
      "=== RESULTADOS DE DETECCIÓN ===\n",
      "          xmin        ymin         xmax        ymax  confidence  class    name\n",
      "0  1120.622314  487.440857  1310.806885  787.379700    0.912474      1     inc\n",
      "1  1329.392090  380.252899  1443.717285  595.270752    0.911344      0  canine\n",
      "2   970.359680  374.257721  1104.459351  587.552490    0.907060      0  canine\n",
      "Línea media trazada en x=1215\n"
     ]
    },
    {
     "name": "stderr",
     "output_type": "stream",
     "text": [
      "C:\\Users\\josem/.cache\\torch\\hub\\ultralytics_yolov5_master\\models\\common.py:906: FutureWarning: `torch.cuda.amp.autocast(args...)` is deprecated. Please use `torch.amp.autocast('cuda', args...)` instead.\n",
      "  with amp.autocast(autocast):\n"
     ]
    },
    {
     "name": "stdout",
     "output_type": "stream",
     "text": [
      "Guardado en: Output/prueba_modelo\\foto30_analizada_m2.jpg\n",
      "\n",
      "Procesando: foto31.jpg\n",
      "\n",
      "=== RESULTADOS DE DETECCIÓN ===\n",
      "          xmin        ymin         xmax        ymax  confidence  class    name\n",
      "0  1114.860840  466.977692  1277.790527  777.285400    0.914669      1     inc\n",
      "1  1002.226624  316.902313  1120.842773  555.985291    0.906152      0  canine\n",
      "2  1277.390625  334.506592  1381.694458  597.333191    0.888213      0  canine\n",
      "Línea media trazada en x=1195\n"
     ]
    },
    {
     "name": "stderr",
     "output_type": "stream",
     "text": [
      "C:\\Users\\josem/.cache\\torch\\hub\\ultralytics_yolov5_master\\models\\common.py:906: FutureWarning: `torch.cuda.amp.autocast(args...)` is deprecated. Please use `torch.amp.autocast('cuda', args...)` instead.\n",
      "  with amp.autocast(autocast):\n"
     ]
    },
    {
     "name": "stdout",
     "output_type": "stream",
     "text": [
      "Guardado en: Output/prueba_modelo\\foto31_analizada_m2.jpg\n",
      "\n",
      "Procesando: foto32.jpg\n",
      "\n",
      "=== RESULTADOS DE DETECCIÓN ===\n",
      "          xmin        ymin         xmax        ymax  confidence  class    name\n",
      "0  1326.678955  366.314240  1429.791748  531.363892    0.908264      0  canine\n",
      "1  1033.898926  373.766449  1144.480225  529.474487    0.860206      0  canine\n",
      "No se detectaron incisivos; no se puede trazar la línea media.\n",
      "\n",
      "Procesando: foto33.jpg\n"
     ]
    },
    {
     "name": "stderr",
     "output_type": "stream",
     "text": [
      "C:\\Users\\josem/.cache\\torch\\hub\\ultralytics_yolov5_master\\models\\common.py:906: FutureWarning: `torch.cuda.amp.autocast(args...)` is deprecated. Please use `torch.amp.autocast('cuda', args...)` instead.\n",
      "  with amp.autocast(autocast):\n",
      "C:\\Users\\josem/.cache\\torch\\hub\\ultralytics_yolov5_master\\models\\common.py:906: FutureWarning: `torch.cuda.amp.autocast(args...)` is deprecated. Please use `torch.amp.autocast('cuda', args...)` instead.\n",
      "  with amp.autocast(autocast):\n"
     ]
    },
    {
     "name": "stdout",
     "output_type": "stream",
     "text": [
      "\n",
      "=== RESULTADOS DE DETECCIÓN ===\n",
      "          xmin        ymin         xmax        ymax  confidence  class    name\n",
      "0  1040.394653  285.395813  1187.871948  564.729553    0.922252      0  canine\n",
      "1  1167.880981  470.009033  1333.579224  786.853210    0.916329      1     inc\n",
      "2  1343.725708  355.203247  1496.119873  526.377075    0.903093      0  canine\n",
      "Línea media trazada en x=1250\n",
      "Guardado en: Output/prueba_modelo\\foto33_analizada_m2.jpg\n",
      "\n",
      "Procesando: foto34.jpg\n",
      "\n",
      "=== RESULTADOS DE DETECCIÓN ===\n",
      "          xmin        ymin         xmax        ymax  confidence  class    name\n",
      "0  1206.220581  404.860291  1411.250732  780.471558    0.909311      1     inc\n",
      "1  1438.625488  278.992004  1586.219116  561.838928    0.891889      0  canine\n",
      "2  1049.319092  292.372070  1189.027100  533.798584    0.889514      0  canine\n",
      "Línea media trazada en x=1308\n"
     ]
    },
    {
     "name": "stderr",
     "output_type": "stream",
     "text": [
      "C:\\Users\\josem/.cache\\torch\\hub\\ultralytics_yolov5_master\\models\\common.py:906: FutureWarning: `torch.cuda.amp.autocast(args...)` is deprecated. Please use `torch.amp.autocast('cuda', args...)` instead.\n",
      "  with amp.autocast(autocast):\n"
     ]
    },
    {
     "name": "stdout",
     "output_type": "stream",
     "text": [
      "Guardado en: Output/prueba_modelo\\foto34_analizada_m2.jpg\n",
      "\n",
      "Procesando: foto35.jpg\n",
      "\n",
      "=== RESULTADOS DE DETECCIÓN ===\n",
      "          xmin        ymin         xmax        ymax  confidence  class    name\n",
      "0  1062.386841  459.095795  1268.936401  803.292969    0.896236      1     inc\n",
      "1   927.183289  338.742065  1045.756104  624.611633    0.895883      0  canine\n",
      "Línea media trazada en x=1165\n"
     ]
    },
    {
     "name": "stderr",
     "output_type": "stream",
     "text": [
      "C:\\Users\\josem/.cache\\torch\\hub\\ultralytics_yolov5_master\\models\\common.py:906: FutureWarning: `torch.cuda.amp.autocast(args...)` is deprecated. Please use `torch.amp.autocast('cuda', args...)` instead.\n",
      "  with amp.autocast(autocast):\n"
     ]
    },
    {
     "name": "stdout",
     "output_type": "stream",
     "text": [
      "Guardado en: Output/prueba_modelo\\foto35_analizada_m2.jpg\n",
      "\n",
      "Procesando: foto36.jpg\n",
      "\n",
      "=== RESULTADOS DE DETECCIÓN ===\n",
      "          xmin        ymin         xmax        ymax  confidence  class name\n",
      "0  1144.297485  397.346588  1351.147949  798.411011    0.868092      1  inc\n",
      "Línea media trazada en x=1247\n",
      "Guardado en: Output/prueba_modelo\\foto36_analizada_m2.jpg\n"
     ]
    },
    {
     "name": "stderr",
     "output_type": "stream",
     "text": [
      "C:\\Users\\josem/.cache\\torch\\hub\\ultralytics_yolov5_master\\models\\common.py:906: FutureWarning: `torch.cuda.amp.autocast(args...)` is deprecated. Please use `torch.amp.autocast('cuda', args...)` instead.\n",
      "  with amp.autocast(autocast):\n"
     ]
    },
    {
     "name": "stdout",
     "output_type": "stream",
     "text": [
      "\n",
      "Procesando: foto37.jpg\n",
      "\n",
      "=== RESULTADOS DE DETECCIÓN ===\n",
      "          xmin        ymin         xmax        ymax  confidence  class name\n",
      "0  1158.641479  446.652313  1336.037964  778.351257    0.870451      1  inc\n",
      "Línea media trazada en x=1247\n",
      "Guardado en: Output/prueba_modelo\\foto37_analizada_m2.jpg\n",
      "\n",
      "Procesando: foto38.jpg\n"
     ]
    },
    {
     "name": "stderr",
     "output_type": "stream",
     "text": [
      "C:\\Users\\josem/.cache\\torch\\hub\\ultralytics_yolov5_master\\models\\common.py:906: FutureWarning: `torch.cuda.amp.autocast(args...)` is deprecated. Please use `torch.amp.autocast('cuda', args...)` instead.\n",
      "  with amp.autocast(autocast):\n",
      "C:\\Users\\josem/.cache\\torch\\hub\\ultralytics_yolov5_master\\models\\common.py:906: FutureWarning: `torch.cuda.amp.autocast(args...)` is deprecated. Please use `torch.amp.autocast('cuda', args...)` instead.\n",
      "  with amp.autocast(autocast):\n"
     ]
    },
    {
     "name": "stdout",
     "output_type": "stream",
     "text": [
      "\n",
      "=== RESULTADOS DE DETECCIÓN ===\n",
      "          xmin        ymin         xmax        ymax  confidence  class name\n",
      "0  1148.463989  481.291901  1332.242188  717.032349    0.913142      1  inc\n",
      "Línea media trazada en x=1240\n",
      "Guardado en: Output/prueba_modelo\\foto38_analizada_m2.jpg\n",
      "\n",
      "Procesando: foto39.jpg\n",
      "\n",
      "=== RESULTADOS DE DETECCIÓN ===\n",
      "          xmin        ymin         xmax        ymax  confidence  class name\n",
      "0  1153.588257  569.425415  1330.075806  788.681519    0.863098      1  inc\n",
      "Línea media trazada en x=1241\n",
      "Guardado en: Output/prueba_modelo\\foto39_analizada_m2.jpg\n",
      "\n",
      "Procesando: foto4.jpg\n"
     ]
    },
    {
     "name": "stderr",
     "output_type": "stream",
     "text": [
      "C:\\Users\\josem/.cache\\torch\\hub\\ultralytics_yolov5_master\\models\\common.py:906: FutureWarning: `torch.cuda.amp.autocast(args...)` is deprecated. Please use `torch.amp.autocast('cuda', args...)` instead.\n",
      "  with amp.autocast(autocast):\n",
      "C:\\Users\\josem/.cache\\torch\\hub\\ultralytics_yolov5_master\\models\\common.py:906: FutureWarning: `torch.cuda.amp.autocast(args...)` is deprecated. Please use `torch.amp.autocast('cuda', args...)` instead.\n",
      "  with amp.autocast(autocast):\n"
     ]
    },
    {
     "name": "stdout",
     "output_type": "stream",
     "text": [
      "\n",
      "=== RESULTADOS DE DETECCIÓN ===\n",
      "          xmin        ymin         xmax        ymax  confidence  class    name\n",
      "0  1177.457153  484.086487  1349.672607  773.493591    0.918034      1     inc\n",
      "1  1055.047852  320.443207  1180.150146  557.653625    0.908683      0  canine\n",
      "2  1361.556641  330.392792  1479.406860  561.326111    0.881613      0  canine\n",
      "Línea media trazada en x=1263\n",
      "Guardado en: Output/prueba_modelo\\foto4_analizada_m2.jpg\n",
      "\n",
      "Procesando: foto40.jpg\n",
      "\n",
      "=== RESULTADOS DE DETECCIÓN ===\n",
      "          xmin        ymin         xmax        ymax  confidence  class    name\n",
      "0  1093.734863  457.167725  1284.489014  770.911499    0.922704      1     inc\n",
      "1  1281.477905  306.999420  1397.583252  554.582520    0.912640      0  canine\n",
      "2   961.843262  304.203644  1100.281372  530.644043    0.908851      0  canine\n",
      "Línea media trazada en x=1188\n"
     ]
    },
    {
     "name": "stderr",
     "output_type": "stream",
     "text": [
      "C:\\Users\\josem/.cache\\torch\\hub\\ultralytics_yolov5_master\\models\\common.py:906: FutureWarning: `torch.cuda.amp.autocast(args...)` is deprecated. Please use `torch.amp.autocast('cuda', args...)` instead.\n",
      "  with amp.autocast(autocast):\n"
     ]
    },
    {
     "name": "stdout",
     "output_type": "stream",
     "text": [
      "Guardado en: Output/prueba_modelo\\foto40_analizada_m2.jpg\n",
      "\n",
      "Procesando: foto41.jpg\n"
     ]
    },
    {
     "name": "stderr",
     "output_type": "stream",
     "text": [
      "C:\\Users\\josem/.cache\\torch\\hub\\ultralytics_yolov5_master\\models\\common.py:906: FutureWarning: `torch.cuda.amp.autocast(args...)` is deprecated. Please use `torch.amp.autocast('cuda', args...)` instead.\n",
      "  with amp.autocast(autocast):\n"
     ]
    },
    {
     "name": "stdout",
     "output_type": "stream",
     "text": [
      "\n",
      "=== RESULTADOS DE DETECCIÓN ===\n",
      "          xmin        ymin         xmax        ymax  confidence  class    name\n",
      "0  1178.134644  488.527893  1343.872314  781.115540    0.915093      1     inc\n",
      "1  1345.438477  370.184784  1451.275146  595.212341    0.906185      0  canine\n",
      "2  1062.053345  358.373871  1176.405518  567.718933    0.892540      0  canine\n",
      "Línea media trazada en x=1260\n",
      "Guardado en: Output/prueba_modelo\\foto41_analizada_m2.jpg\n",
      "\n",
      "Procesando: foto42.jpg\n",
      "\n",
      "=== RESULTADOS DE DETECCIÓN ===\n",
      "          xmin        ymin         xmax        ymax  confidence  class    name\n",
      "0  1110.833374  428.762695  1300.727051  783.958496    0.910708      1     inc\n",
      "1  1309.374634  337.512085  1442.761597  619.520508    0.906072      0  canine\n",
      "2   972.426758  376.055786  1068.396118  681.586975    0.868444      0  canine\n",
      "Línea media trazada en x=1205\n"
     ]
    },
    {
     "name": "stderr",
     "output_type": "stream",
     "text": [
      "C:\\Users\\josem/.cache\\torch\\hub\\ultralytics_yolov5_master\\models\\common.py:906: FutureWarning: `torch.cuda.amp.autocast(args...)` is deprecated. Please use `torch.amp.autocast('cuda', args...)` instead.\n",
      "  with amp.autocast(autocast):\n"
     ]
    },
    {
     "name": "stdout",
     "output_type": "stream",
     "text": [
      "Guardado en: Output/prueba_modelo\\foto42_analizada_m2.jpg\n",
      "\n",
      "Procesando: foto43.jpg\n",
      "\n",
      "=== RESULTADOS DE DETECCIÓN ===\n",
      "Empty DataFrame\n",
      "Columns: [xmin, ymin, xmax, ymax, confidence, class, name]\n",
      "Index: []\n",
      "No se detectaron incisivos; no se puede trazar la línea media.\n",
      "\n",
      "Procesando: foto44.jpg\n"
     ]
    },
    {
     "name": "stderr",
     "output_type": "stream",
     "text": [
      "C:\\Users\\josem/.cache\\torch\\hub\\ultralytics_yolov5_master\\models\\common.py:906: FutureWarning: `torch.cuda.amp.autocast(args...)` is deprecated. Please use `torch.amp.autocast('cuda', args...)` instead.\n",
      "  with amp.autocast(autocast):\n",
      "C:\\Users\\josem/.cache\\torch\\hub\\ultralytics_yolov5_master\\models\\common.py:906: FutureWarning: `torch.cuda.amp.autocast(args...)` is deprecated. Please use `torch.amp.autocast('cuda', args...)` instead.\n",
      "  with amp.autocast(autocast):\n"
     ]
    },
    {
     "name": "stdout",
     "output_type": "stream",
     "text": [
      "\n",
      "=== RESULTADOS DE DETECCIÓN ===\n",
      "          xmin        ymin         xmax        ymax  confidence  class    name\n",
      "0   990.766174  435.799316  1113.881958  609.611084    0.893940      0  canine\n",
      "1  1130.358643  486.167023  1311.688965  761.574219    0.885938      1     inc\n",
      "2  1324.189697  413.697998  1440.660645  606.915344    0.871597      0  canine\n",
      "Línea media trazada en x=1220\n",
      "Guardado en: Output/prueba_modelo\\foto44_analizada_m2.jpg\n",
      "\n",
      "Procesando: foto45.jpg\n",
      "\n",
      "=== RESULTADOS DE DETECCIÓN ===\n",
      "          xmin        ymin         xmax        ymax  confidence  class    name\n",
      "0  1326.390625  412.217407  1443.374023  606.087036    0.932181      0  canine\n",
      "1  1131.615845  500.560394  1319.852051  772.854797    0.909213      1     inc\n",
      "2   997.194641  426.913239  1123.343628  619.902893    0.907646      0  canine\n",
      "Línea media trazada en x=1225\n"
     ]
    },
    {
     "name": "stderr",
     "output_type": "stream",
     "text": [
      "C:\\Users\\josem/.cache\\torch\\hub\\ultralytics_yolov5_master\\models\\common.py:906: FutureWarning: `torch.cuda.amp.autocast(args...)` is deprecated. Please use `torch.amp.autocast('cuda', args...)` instead.\n",
      "  with amp.autocast(autocast):\n"
     ]
    },
    {
     "name": "stdout",
     "output_type": "stream",
     "text": [
      "Guardado en: Output/prueba_modelo\\foto45_analizada_m2.jpg\n",
      "\n",
      "Procesando: foto46.jpg\n",
      "\n",
      "=== RESULTADOS DE DETECCIÓN ===\n",
      "          xmin        ymin         xmax        ymax  confidence  class    name\n",
      "0  1135.627808  434.937653  1337.305420  789.313660    0.950086      1     inc\n",
      "1   991.718811  351.877563  1116.114258  568.053467    0.917431      0  canine\n",
      "2  1376.519775  387.651825  1503.298462  593.840088    0.914247      0  canine\n",
      "Línea media trazada en x=1236\n"
     ]
    },
    {
     "name": "stderr",
     "output_type": "stream",
     "text": [
      "C:\\Users\\josem/.cache\\torch\\hub\\ultralytics_yolov5_master\\models\\common.py:906: FutureWarning: `torch.cuda.amp.autocast(args...)` is deprecated. Please use `torch.amp.autocast('cuda', args...)` instead.\n",
      "  with amp.autocast(autocast):\n"
     ]
    },
    {
     "name": "stdout",
     "output_type": "stream",
     "text": [
      "Guardado en: Output/prueba_modelo\\foto46_analizada_m2.jpg\n",
      "\n",
      "Procesando: foto47.jpg\n",
      "\n",
      "=== RESULTADOS DE DETECCIÓN ===\n",
      "          xmin        ymin         xmax       ymax  confidence  class name\n",
      "0  1167.524414  437.665802  1356.411377  768.25885    0.904301      1  inc\n",
      "Línea media trazada en x=1261\n",
      "Guardado en: Output/prueba_modelo\\foto47_analizada_m2.jpg\n",
      "\n",
      "Procesando: foto48.jpg\n"
     ]
    },
    {
     "name": "stderr",
     "output_type": "stream",
     "text": [
      "C:\\Users\\josem/.cache\\torch\\hub\\ultralytics_yolov5_master\\models\\common.py:906: FutureWarning: `torch.cuda.amp.autocast(args...)` is deprecated. Please use `torch.amp.autocast('cuda', args...)` instead.\n",
      "  with amp.autocast(autocast):\n",
      "C:\\Users\\josem/.cache\\torch\\hub\\ultralytics_yolov5_master\\models\\common.py:906: FutureWarning: `torch.cuda.amp.autocast(args...)` is deprecated. Please use `torch.amp.autocast('cuda', args...)` instead.\n",
      "  with amp.autocast(autocast):\n"
     ]
    },
    {
     "name": "stdout",
     "output_type": "stream",
     "text": [
      "\n",
      "=== RESULTADOS DE DETECCIÓN ===\n",
      "          xmin        ymin         xmax        ymax  confidence  class    name\n",
      "0  1143.401855  440.943481  1312.383545  787.822266    0.937370      1     inc\n",
      "1  1014.394897  340.253601  1134.904175  621.242004    0.911088      0  canine\n",
      "2  1345.134888  384.464294  1443.930786  690.140076    0.857019      0  canine\n",
      "Línea media trazada en x=1227\n",
      "Guardado en: Output/prueba_modelo\\foto48_analizada_m2.jpg\n",
      "\n",
      "Procesando: foto49.jpg\n",
      "\n",
      "=== RESULTADOS DE DETECCIÓN ===\n",
      "          xmin        ymin         xmax        ymax  confidence  class    name\n",
      "0  1153.322388  487.971069  1305.003784  789.277344    0.916924      1     inc\n",
      "1  1044.468994  374.546844  1143.673218  584.676147    0.887054      0  canine\n",
      "2  1311.305908  376.743347  1410.326416  593.578247    0.884404      0  canine\n",
      "Línea media trazada en x=1229\n"
     ]
    },
    {
     "name": "stderr",
     "output_type": "stream",
     "text": [
      "C:\\Users\\josem/.cache\\torch\\hub\\ultralytics_yolov5_master\\models\\common.py:906: FutureWarning: `torch.cuda.amp.autocast(args...)` is deprecated. Please use `torch.amp.autocast('cuda', args...)` instead.\n",
      "  with amp.autocast(autocast):\n"
     ]
    },
    {
     "name": "stdout",
     "output_type": "stream",
     "text": [
      "Guardado en: Output/prueba_modelo\\foto49_analizada_m2.jpg\n",
      "\n",
      "Procesando: foto5.jpg\n",
      "\n",
      "=== RESULTADOS DE DETECCIÓN ===\n",
      "          xmin        ymin         xmax        ymax  confidence  class    name\n",
      "0  1155.701660  445.141693  1325.435913  791.528320    0.949863      1     inc\n",
      "1  1343.734863  346.262390  1443.624512  593.723755    0.913687      0  canine\n",
      "2  1026.048828  368.232574  1129.917969  594.805359    0.894923      0  canine\n",
      "Línea media trazada en x=1240\n"
     ]
    },
    {
     "name": "stderr",
     "output_type": "stream",
     "text": [
      "C:\\Users\\josem/.cache\\torch\\hub\\ultralytics_yolov5_master\\models\\common.py:906: FutureWarning: `torch.cuda.amp.autocast(args...)` is deprecated. Please use `torch.amp.autocast('cuda', args...)` instead.\n",
      "  with amp.autocast(autocast):\n"
     ]
    },
    {
     "name": "stdout",
     "output_type": "stream",
     "text": [
      "Guardado en: Output/prueba_modelo\\foto5_analizada_m2.jpg\n",
      "\n",
      "Procesando: foto50.jpg\n",
      "\n",
      "=== RESULTADOS DE DETECCIÓN ===\n",
      "          xmin        ymin         xmax        ymax  confidence  class    name\n",
      "0  1024.971680  343.046539  1149.924805  613.354858    0.912681      0  canine\n",
      "1  1158.791504  429.754547  1339.449829  789.636475    0.899831      1     inc\n",
      "2  1347.509766  328.093842  1469.174927  615.790039    0.898053      0  canine\n",
      "Línea media trazada en x=1248\n"
     ]
    },
    {
     "name": "stderr",
     "output_type": "stream",
     "text": [
      "C:\\Users\\josem/.cache\\torch\\hub\\ultralytics_yolov5_master\\models\\common.py:906: FutureWarning: `torch.cuda.amp.autocast(args...)` is deprecated. Please use `torch.amp.autocast('cuda', args...)` instead.\n",
      "  with amp.autocast(autocast):\n"
     ]
    },
    {
     "name": "stdout",
     "output_type": "stream",
     "text": [
      "Guardado en: Output/prueba_modelo\\foto50_analizada_m2.jpg\n",
      "\n",
      "Procesando: foto51.jpg\n",
      "\n",
      "=== RESULTADOS DE DETECCIÓN ===\n",
      "          xmin        ymin         xmax        ymax  confidence  class    name\n",
      "0  1081.462646  285.880829  1207.658936  558.720398    0.917788      0  canine\n",
      "1  1212.791626  431.904114  1419.262329  783.632568    0.913607      1     inc\n",
      "2  1428.626343  300.840729  1563.038452  576.384155    0.911047      0  canine\n",
      "Línea media trazada en x=1315\n"
     ]
    },
    {
     "name": "stderr",
     "output_type": "stream",
     "text": [
      "C:\\Users\\josem/.cache\\torch\\hub\\ultralytics_yolov5_master\\models\\common.py:906: FutureWarning: `torch.cuda.amp.autocast(args...)` is deprecated. Please use `torch.amp.autocast('cuda', args...)` instead.\n",
      "  with amp.autocast(autocast):\n"
     ]
    },
    {
     "name": "stdout",
     "output_type": "stream",
     "text": [
      "Guardado en: Output/prueba_modelo\\foto51_analizada_m2.jpg\n",
      "\n",
      "Procesando: foto52.jpg\n",
      "\n",
      "=== RESULTADOS DE DETECCIÓN ===\n",
      "          xmin        ymin         xmax        ymax  confidence  class    name\n",
      "0  1369.754517  357.363831  1523.625366  579.189392    0.923606      0  canine\n",
      "1  1212.764404  500.028625  1392.606201  776.804749    0.909338      1     inc\n",
      "2  1095.006836  330.413177  1214.832886  576.152039    0.890553      0  canine\n",
      "Línea media trazada en x=1302\n"
     ]
    },
    {
     "name": "stderr",
     "output_type": "stream",
     "text": [
      "C:\\Users\\josem/.cache\\torch\\hub\\ultralytics_yolov5_master\\models\\common.py:906: FutureWarning: `torch.cuda.amp.autocast(args...)` is deprecated. Please use `torch.amp.autocast('cuda', args...)` instead.\n",
      "  with amp.autocast(autocast):\n"
     ]
    },
    {
     "name": "stdout",
     "output_type": "stream",
     "text": [
      "Guardado en: Output/prueba_modelo\\foto52_analizada_m2.jpg\n",
      "\n",
      "Procesando: foto53.jpg\n",
      "\n",
      "=== RESULTADOS DE DETECCIÓN ===\n",
      "          xmin        ymin         xmax        ymax  confidence  class    name\n",
      "0  1145.605469  501.112122  1304.301025  795.056946    0.918206      1     inc\n",
      "1  1330.936890  369.991974  1437.296143  645.244080    0.917728      0  canine\n",
      "2   992.828552  359.704468  1116.633179  633.247620    0.916429      0  canine\n",
      "Línea media trazada en x=1224\n"
     ]
    },
    {
     "name": "stderr",
     "output_type": "stream",
     "text": [
      "C:\\Users\\josem/.cache\\torch\\hub\\ultralytics_yolov5_master\\models\\common.py:906: FutureWarning: `torch.cuda.amp.autocast(args...)` is deprecated. Please use `torch.amp.autocast('cuda', args...)` instead.\n",
      "  with amp.autocast(autocast):\n"
     ]
    },
    {
     "name": "stdout",
     "output_type": "stream",
     "text": [
      "Guardado en: Output/prueba_modelo\\foto53_analizada_m2.jpg\n",
      "\n",
      "Procesando: foto54.jpg\n",
      "\n",
      "=== RESULTADOS DE DETECCIÓN ===\n",
      "          xmin        ymin         xmax        ymax  confidence  class    name\n",
      "0  1000.450317  372.330750  1125.221069  660.847168    0.909513      0  canine\n",
      "1  1322.098511  359.080078  1438.994507  623.086060    0.908340      0  canine\n",
      "2  1141.700684  484.582581  1311.421875  787.576416    0.903327      1     inc\n",
      "Línea media trazada en x=1226\n"
     ]
    },
    {
     "name": "stderr",
     "output_type": "stream",
     "text": [
      "C:\\Users\\josem/.cache\\torch\\hub\\ultralytics_yolov5_master\\models\\common.py:906: FutureWarning: `torch.cuda.amp.autocast(args...)` is deprecated. Please use `torch.amp.autocast('cuda', args...)` instead.\n",
      "  with amp.autocast(autocast):\n"
     ]
    },
    {
     "name": "stdout",
     "output_type": "stream",
     "text": [
      "Guardado en: Output/prueba_modelo\\foto54_analizada_m2.jpg\n",
      "\n",
      "Procesando: foto55.jpg\n",
      "\n",
      "=== RESULTADOS DE DETECCIÓN ===\n",
      "          xmin        ymin         xmax        ymax  confidence  class    name\n",
      "0  1021.486267  374.911194  1153.757080  583.200073    0.918518      0  canine\n",
      "1  1157.154297  490.803253  1327.875122  787.034668    0.904467      1     inc\n",
      "2  1334.802856  365.483734  1448.735596  576.629456    0.893542      0  canine\n",
      "Línea media trazada en x=1242\n"
     ]
    },
    {
     "name": "stderr",
     "output_type": "stream",
     "text": [
      "C:\\Users\\josem/.cache\\torch\\hub\\ultralytics_yolov5_master\\models\\common.py:906: FutureWarning: `torch.cuda.amp.autocast(args...)` is deprecated. Please use `torch.amp.autocast('cuda', args...)` instead.\n",
      "  with amp.autocast(autocast):\n"
     ]
    },
    {
     "name": "stdout",
     "output_type": "stream",
     "text": [
      "Guardado en: Output/prueba_modelo\\foto55_analizada_m2.jpg\n",
      "\n",
      "Procesando: foto56.jpg\n",
      "\n",
      "=== RESULTADOS DE DETECCIÓN ===\n",
      "          xmin        ymin         xmax        ymax  confidence  class    name\n",
      "0  1108.648193  469.024384  1298.085449  788.242615    0.960554      1     inc\n",
      "1  1304.636230  368.113129  1423.203491  577.436157    0.907692      0  canine\n",
      "2   987.960083  384.029785  1101.595337  581.761719    0.901148      0  canine\n",
      "Línea media trazada en x=1203\n"
     ]
    },
    {
     "name": "stderr",
     "output_type": "stream",
     "text": [
      "C:\\Users\\josem/.cache\\torch\\hub\\ultralytics_yolov5_master\\models\\common.py:906: FutureWarning: `torch.cuda.amp.autocast(args...)` is deprecated. Please use `torch.amp.autocast('cuda', args...)` instead.\n",
      "  with amp.autocast(autocast):\n"
     ]
    },
    {
     "name": "stdout",
     "output_type": "stream",
     "text": [
      "Guardado en: Output/prueba_modelo\\foto56_analizada_m2.jpg\n",
      "\n",
      "Procesando: foto57.jpg\n",
      "\n",
      "=== RESULTADOS DE DETECCIÓN ===\n",
      "          xmin        ymin         xmax        ymax  confidence  class    name\n",
      "0  1022.755310  342.190521  1159.911011  608.826416    0.922993      0  canine\n",
      "1  1163.321289  454.290619  1325.707153  776.085632    0.910581      1     inc\n",
      "2  1340.157837  337.310059  1452.225830  619.113831    0.908909      0  canine\n",
      "Línea media trazada en x=1244\n"
     ]
    },
    {
     "name": "stderr",
     "output_type": "stream",
     "text": [
      "C:\\Users\\josem/.cache\\torch\\hub\\ultralytics_yolov5_master\\models\\common.py:906: FutureWarning: `torch.cuda.amp.autocast(args...)` is deprecated. Please use `torch.amp.autocast('cuda', args...)` instead.\n",
      "  with amp.autocast(autocast):\n"
     ]
    },
    {
     "name": "stdout",
     "output_type": "stream",
     "text": [
      "Guardado en: Output/prueba_modelo\\foto57_analizada_m2.jpg\n",
      "\n",
      "Procesando: foto58.jpg\n",
      "\n",
      "=== RESULTADOS DE DETECCIÓN ===\n",
      "          xmin        ymin         xmax        ymax  confidence  class    name\n",
      "0  1334.797241  346.358856  1446.531982  550.130615    0.855824      0  canine\n",
      "No se detectaron incisivos; no se puede trazar la línea media.\n"
     ]
    },
    {
     "name": "stderr",
     "output_type": "stream",
     "text": [
      "C:\\Users\\josem/.cache\\torch\\hub\\ultralytics_yolov5_master\\models\\common.py:906: FutureWarning: `torch.cuda.amp.autocast(args...)` is deprecated. Please use `torch.amp.autocast('cuda', args...)` instead.\n",
      "  with amp.autocast(autocast):\n",
      "C:\\Users\\josem/.cache\\torch\\hub\\ultralytics_yolov5_master\\models\\common.py:906: FutureWarning: `torch.cuda.amp.autocast(args...)` is deprecated. Please use `torch.amp.autocast('cuda', args...)` instead.\n",
      "  with amp.autocast(autocast):\n"
     ]
    },
    {
     "name": "stdout",
     "output_type": "stream",
     "text": [
      "\n",
      "Procesando: foto59.jpg\n",
      "\n",
      "=== RESULTADOS DE DETECCIÓN ===\n",
      "          xmin        ymin         xmax        ymax  confidence  class    name\n",
      "0   995.368408  403.190063  1099.787476  642.218506    0.911308      0  canine\n",
      "1  1327.640625  396.706665  1435.114990  670.241577    0.905512      0  canine\n",
      "2  1128.984253  523.660767  1294.077393  777.557922    0.888978      1     inc\n",
      "Línea media trazada en x=1211\n",
      "Guardado en: Output/prueba_modelo\\foto59_analizada_m2.jpg\n",
      "\n",
      "Procesando: foto6.jpg\n",
      "\n",
      "=== RESULTADOS DE DETECCIÓN ===\n",
      "          xmin        ymin         xmax        ymax  confidence  class    name\n",
      "0  1150.799805  478.535797  1307.934937  781.976624    0.928757      1     inc\n",
      "1  1012.833130  269.157776  1145.966309  570.262451    0.925827      0  canine\n",
      "2  1313.983032  268.629944  1456.949951  572.694397    0.913345      0  canine\n",
      "Línea media trazada en x=1228\n"
     ]
    },
    {
     "name": "stderr",
     "output_type": "stream",
     "text": [
      "C:\\Users\\josem/.cache\\torch\\hub\\ultralytics_yolov5_master\\models\\common.py:906: FutureWarning: `torch.cuda.amp.autocast(args...)` is deprecated. Please use `torch.amp.autocast('cuda', args...)` instead.\n",
      "  with amp.autocast(autocast):\n"
     ]
    },
    {
     "name": "stdout",
     "output_type": "stream",
     "text": [
      "Guardado en: Output/prueba_modelo\\foto6_analizada_m2.jpg\n",
      "\n",
      "Procesando: foto60.jpg\n",
      "\n",
      "=== RESULTADOS DE DETECCIÓN ===\n",
      "          xmin        ymin         xmax        ymax  confidence  class    name\n",
      "0   996.240906  348.794495  1105.938965  553.623474    0.922780      0  canine\n",
      "1  1120.455200  451.420959  1318.189941  805.204529    0.918827      1     inc\n",
      "2  1334.955811  366.149658  1457.786255  570.393555    0.903688      0  canine\n",
      "Línea media trazada en x=1219\n"
     ]
    },
    {
     "name": "stderr",
     "output_type": "stream",
     "text": [
      "C:\\Users\\josem/.cache\\torch\\hub\\ultralytics_yolov5_master\\models\\common.py:906: FutureWarning: `torch.cuda.amp.autocast(args...)` is deprecated. Please use `torch.amp.autocast('cuda', args...)` instead.\n",
      "  with amp.autocast(autocast):\n"
     ]
    },
    {
     "name": "stdout",
     "output_type": "stream",
     "text": [
      "Guardado en: Output/prueba_modelo\\foto60_analizada_m2.jpg\n",
      "\n",
      "Procesando: foto61.jpg\n",
      "\n",
      "=== RESULTADOS DE DETECCIÓN ===\n",
      "          xmin        ymin         xmax        ymax  confidence  class    name\n",
      "0  1010.604248  373.684509  1153.786133  648.598267    0.926344      0  canine\n",
      "1  1154.120361  460.945160  1348.337524  791.283936    0.917223      1     inc\n",
      "Línea media trazada en x=1251\n"
     ]
    },
    {
     "name": "stderr",
     "output_type": "stream",
     "text": [
      "C:\\Users\\josem/.cache\\torch\\hub\\ultralytics_yolov5_master\\models\\common.py:906: FutureWarning: `torch.cuda.amp.autocast(args...)` is deprecated. Please use `torch.amp.autocast('cuda', args...)` instead.\n",
      "  with amp.autocast(autocast):\n"
     ]
    },
    {
     "name": "stdout",
     "output_type": "stream",
     "text": [
      "Guardado en: Output/prueba_modelo\\foto61_analizada_m2.jpg\n",
      "\n",
      "Procesando: foto62.jpg\n",
      "\n",
      "=== RESULTADOS DE DETECCIÓN ===\n",
      "          xmin        ymin         xmax        ymax  confidence  class    name\n",
      "0   995.981018  381.373749  1105.655273  667.021118    0.913892      0  canine\n",
      "1  1300.620239  389.125092  1415.863159  667.253784    0.909227      0  canine\n",
      "2  1126.956177  490.977203  1283.624146  789.990967    0.905314      1     inc\n"
     ]
    },
    {
     "name": "stderr",
     "output_type": "stream",
     "text": [
      "C:\\Users\\josem/.cache\\torch\\hub\\ultralytics_yolov5_master\\models\\common.py:906: FutureWarning: `torch.cuda.amp.autocast(args...)` is deprecated. Please use `torch.amp.autocast('cuda', args...)` instead.\n",
      "  with amp.autocast(autocast):\n"
     ]
    },
    {
     "name": "stdout",
     "output_type": "stream",
     "text": [
      "Línea media trazada en x=1204\n",
      "Guardado en: Output/prueba_modelo\\foto62_analizada_m2.jpg\n",
      "\n",
      "Procesando: foto63.jpg\n",
      "\n",
      "=== RESULTADOS DE DETECCIÓN ===\n",
      "          xmin        ymin         xmax        ymax  confidence  class    name\n",
      "0  1347.189697  354.076172  1476.617554  636.533813    0.901950      0  canine\n",
      "1  1113.973877  400.250793  1300.175781  779.053650    0.901510      1     inc\n",
      "2   951.369263  356.306458  1067.532104  635.272156    0.889924      0  canine\n",
      "Línea media trazada en x=1206\n"
     ]
    },
    {
     "name": "stderr",
     "output_type": "stream",
     "text": [
      "C:\\Users\\josem/.cache\\torch\\hub\\ultralytics_yolov5_master\\models\\common.py:906: FutureWarning: `torch.cuda.amp.autocast(args...)` is deprecated. Please use `torch.amp.autocast('cuda', args...)` instead.\n",
      "  with amp.autocast(autocast):\n"
     ]
    },
    {
     "name": "stdout",
     "output_type": "stream",
     "text": [
      "Guardado en: Output/prueba_modelo\\foto63_analizada_m2.jpg\n",
      "\n",
      "Procesando: foto64.jpg\n",
      "\n",
      "=== RESULTADOS DE DETECCIÓN ===\n",
      "         xmin       ymin        xmax        ymax  confidence  class    name\n",
      "0  886.945312  372.98111  1072.13208  676.897644    0.899135      0  canine\n",
      "No se detectaron incisivos; no se puede trazar la línea media.\n",
      "\n",
      "Procesando: foto65.jpg\n"
     ]
    },
    {
     "name": "stderr",
     "output_type": "stream",
     "text": [
      "C:\\Users\\josem/.cache\\torch\\hub\\ultralytics_yolov5_master\\models\\common.py:906: FutureWarning: `torch.cuda.amp.autocast(args...)` is deprecated. Please use `torch.amp.autocast('cuda', args...)` instead.\n",
      "  with amp.autocast(autocast):\n",
      "C:\\Users\\josem/.cache\\torch\\hub\\ultralytics_yolov5_master\\models\\common.py:906: FutureWarning: `torch.cuda.amp.autocast(args...)` is deprecated. Please use `torch.amp.autocast('cuda', args...)` instead.\n",
      "  with amp.autocast(autocast):\n"
     ]
    },
    {
     "name": "stdout",
     "output_type": "stream",
     "text": [
      "\n",
      "=== RESULTADOS DE DETECCIÓN ===\n",
      "          xmin        ymin         xmax        ymax  confidence  class    name\n",
      "0  1018.359436  392.493530  1144.533813  602.317627    0.918663      0  canine\n",
      "1  1330.421265  342.368347  1437.365479  582.457764    0.909045      0  canine\n",
      "2  1157.644653  463.532867  1323.403442  795.900085    0.889437      1     inc\n",
      "Línea media trazada en x=1240\n",
      "Guardado en: Output/prueba_modelo\\foto65_analizada_m2.jpg\n",
      "\n",
      "Procesando: foto66.jpg\n",
      "\n",
      "=== RESULTADOS DE DETECCIÓN ===\n",
      "          xmin        ymin         xmax        ymax  confidence  class    name\n",
      "0  1129.045288  399.430908  1344.187134  797.847839    0.939125      1     inc\n",
      "1   972.605103  299.541199  1113.684570  579.273376    0.917578      0  canine\n",
      "2  1363.977661  324.241394  1483.448975  616.425537    0.901271      0  canine\n",
      "Línea media trazada en x=1236\n"
     ]
    },
    {
     "name": "stderr",
     "output_type": "stream",
     "text": [
      "C:\\Users\\josem/.cache\\torch\\hub\\ultralytics_yolov5_master\\models\\common.py:906: FutureWarning: `torch.cuda.amp.autocast(args...)` is deprecated. Please use `torch.amp.autocast('cuda', args...)` instead.\n",
      "  with amp.autocast(autocast):\n"
     ]
    },
    {
     "name": "stdout",
     "output_type": "stream",
     "text": [
      "Guardado en: Output/prueba_modelo\\foto66_analizada_m2.jpg\n",
      "\n",
      "Procesando: foto67.jpg\n",
      "\n",
      "=== RESULTADOS DE DETECCIÓN ===\n",
      "          xmin        ymin         xmax        ymax  confidence  class    name\n",
      "0  1159.946289  439.752197  1336.806641  785.262695    0.917144      1     inc\n",
      "1  1009.207703  358.753540  1131.711914  616.719177    0.901627      0  canine\n",
      "2  1355.830444  406.144897  1471.403320  671.683533    0.884515      0  canine\n",
      "Línea media trazada en x=1247\n"
     ]
    },
    {
     "name": "stderr",
     "output_type": "stream",
     "text": [
      "C:\\Users\\josem/.cache\\torch\\hub\\ultralytics_yolov5_master\\models\\common.py:906: FutureWarning: `torch.cuda.amp.autocast(args...)` is deprecated. Please use `torch.amp.autocast('cuda', args...)` instead.\n",
      "  with amp.autocast(autocast):\n"
     ]
    },
    {
     "name": "stdout",
     "output_type": "stream",
     "text": [
      "Guardado en: Output/prueba_modelo\\foto67_analizada_m2.jpg\n",
      "\n",
      "Procesando: foto68.jpg\n",
      "\n",
      "=== RESULTADOS DE DETECCIÓN ===\n",
      "          xmin        ymin         xmax        ymax  confidence  class    name\n",
      "0  1119.901733  519.646362  1276.921875  791.971802    0.953658      1     inc\n",
      "1  1255.019775  313.539154  1435.689331  540.710449    0.900672      0  canine\n",
      "Línea media trazada en x=1197\n"
     ]
    },
    {
     "name": "stderr",
     "output_type": "stream",
     "text": [
      "C:\\Users\\josem/.cache\\torch\\hub\\ultralytics_yolov5_master\\models\\common.py:906: FutureWarning: `torch.cuda.amp.autocast(args...)` is deprecated. Please use `torch.amp.autocast('cuda', args...)` instead.\n",
      "  with amp.autocast(autocast):\n"
     ]
    },
    {
     "name": "stdout",
     "output_type": "stream",
     "text": [
      "Guardado en: Output/prueba_modelo\\foto68_analizada_m2.jpg\n",
      "\n",
      "Procesando: foto69.jpg\n"
     ]
    },
    {
     "name": "stderr",
     "output_type": "stream",
     "text": [
      "C:\\Users\\josem/.cache\\torch\\hub\\ultralytics_yolov5_master\\models\\common.py:906: FutureWarning: `torch.cuda.amp.autocast(args...)` is deprecated. Please use `torch.amp.autocast('cuda', args...)` instead.\n",
      "  with amp.autocast(autocast):\n"
     ]
    },
    {
     "name": "stdout",
     "output_type": "stream",
     "text": [
      "\n",
      "=== RESULTADOS DE DETECCIÓN ===\n",
      "          xmin        ymin         xmax        ymax  confidence  class    name\n",
      "0  1099.931274  449.578125  1287.318604  795.284607    0.944730      1     inc\n",
      "1   957.395813  347.598602  1087.891113  622.498291    0.917836      0  canine\n",
      "2  1290.504639  321.275574  1448.862305  598.113037    0.885448      0  canine\n",
      "Línea media trazada en x=1193\n",
      "Guardado en: Output/prueba_modelo\\foto69_analizada_m2.jpg\n",
      "\n",
      "Procesando: foto7.jpg\n",
      "\n",
      "=== RESULTADOS DE DETECCIÓN ===\n",
      "          xmin        ymin         xmax        ymax  confidence  class    name\n",
      "0  1305.637695  333.273651  1445.995361  624.992981    0.917198      0  canine\n",
      "1  1004.765076  353.277740  1120.815674  649.404236    0.910229      0  canine\n",
      "2  1143.805054  467.174255  1302.363159  768.176819    0.898508      1     inc\n",
      "Línea media trazada en x=1222\n"
     ]
    },
    {
     "name": "stderr",
     "output_type": "stream",
     "text": [
      "C:\\Users\\josem/.cache\\torch\\hub\\ultralytics_yolov5_master\\models\\common.py:906: FutureWarning: `torch.cuda.amp.autocast(args...)` is deprecated. Please use `torch.amp.autocast('cuda', args...)` instead.\n",
      "  with amp.autocast(autocast):\n"
     ]
    },
    {
     "name": "stdout",
     "output_type": "stream",
     "text": [
      "Guardado en: Output/prueba_modelo\\foto7_analizada_m2.jpg\n",
      "\n",
      "Procesando: foto8.jpg\n",
      "\n",
      "=== RESULTADOS DE DETECCIÓN ===\n",
      "          xmin        ymin         xmax        ymax  confidence  class    name\n",
      "0  1172.294434  473.403839  1349.393555  787.548401    0.928986      1     inc\n",
      "1  1026.287354  352.081696  1153.608521  621.323120    0.917249      0  canine\n",
      "2  1379.256592  363.259552  1476.122070  615.549011    0.885879      0  canine\n",
      "Línea media trazada en x=1260\n"
     ]
    },
    {
     "name": "stderr",
     "output_type": "stream",
     "text": [
      "C:\\Users\\josem/.cache\\torch\\hub\\ultralytics_yolov5_master\\models\\common.py:906: FutureWarning: `torch.cuda.amp.autocast(args...)` is deprecated. Please use `torch.amp.autocast('cuda', args...)` instead.\n",
      "  with amp.autocast(autocast):\n"
     ]
    },
    {
     "name": "stdout",
     "output_type": "stream",
     "text": [
      "Guardado en: Output/prueba_modelo\\foto8_analizada_m2.jpg\n",
      "\n",
      "Procesando: foto9.jpg\n",
      "\n",
      "=== RESULTADOS DE DETECCIÓN ===\n",
      "          xmin        ymin         xmax        ymax  confidence  class name\n",
      "0  1151.922974  416.792328  1342.914185  767.998413    0.902822      1  inc\n",
      "Línea media trazada en x=1246\n",
      "Guardado en: Output/prueba_modelo\\foto9_analizada_m2.jpg\n"
     ]
    },
    {
     "name": "stderr",
     "output_type": "stream",
     "text": [
      "C:\\Users\\josem/.cache\\torch\\hub\\ultralytics_yolov5_master\\models\\common.py:906: FutureWarning: `torch.cuda.amp.autocast(args...)` is deprecated. Please use `torch.amp.autocast('cuda', args...)` instead.\n",
      "  with amp.autocast(autocast):\n"
     ]
    }
   ],
   "source": [
    "# ======================================================================================================\n",
    "# Experimento 03: Medición de la proyección de los ángulos de los caninos sobre la línea media central\n",
    "# Se utilizan dos modelos\n",
    "# 1) Un modelo U-Net para segmentar la forma del canino (máscara)\n",
    "# 2) Un modelo YoloV5 para detectar la posición de los caninos e incisivos centrales\n",
    "\n",
    "import cv2\n",
    "import numpy as np\n",
    "import torch\n",
    "import os\n",
    "import math\n",
    "import sys\n",
    "sys.path.append('../src')\n",
    "from tooth_shape_model_unet import UNet\n",
    "from torchvision import transforms\n",
    "from PIL import Image \n",
    "\n",
    "\n",
    "# ======================================================================\n",
    "# Modelo U-Net para segmentación de caninos (obtener la forma del canino, para trazar la línea sobre él)\n",
    "\n",
    "IMG_HEIGHT = 256\n",
    "IMG_WIDTH = 256\n",
    "NUM_CLASSES = 3  # fondo, canino izquierdo, canino derecho\n",
    "\n",
    "device = torch.device('cuda' if torch.cuda.is_available() else 'cpu')\n",
    "shape_unet = UNet(num_classes=NUM_CLASSES).to(device)\n",
    "shape_unet.load_state_dict(torch.load('models/tooth_shape_unet.pth', map_location=device))\n",
    "shape_unet.eval()\n",
    "\n",
    "infer_transform = transforms.Compose([\n",
    "    transforms.Resize((IMG_HEIGHT, IMG_WIDTH)),\n",
    "    transforms.ToTensor(),\n",
    "])\n",
    "\n",
    "# ======================================================================\n",
    "# Modelo pre-entrenado (YoloV5) para la detección posicional de caninos e incisivos centrales\n",
    "device = torch.device('cuda' if torch.cuda.is_available() else 'cpu')\n",
    "model = torch.hub.load(\n",
    "    'ultralytics/yolov5', \n",
    "    'custom',\n",
    "    path='models/tooth_detection.pt',\n",
    "    force_reload=True\n",
    ").to(device)\n",
    "\n",
    "# Umbral de confianza de detección posicional de caninos\n",
    "CONF_THRESHOLD = 0.85\n",
    "model.conf = CONF_THRESHOLD\n",
    "print(f\"Umbral de confianza ajustado a: {CONF_THRESHOLD}\")\n",
    "\n",
    "def calculate_line_intersection(line1_p1, line1_p2, line2_p1, line2_p2):\n",
    "    \"\"\"\n",
    "    Calcula el punto de intersección entre dos líneas definidas por dos puntos cada una.\n",
    "    Si las líneas son paralelas o no se intersectan dentro de los límites de la imagen, devuelve None.\n",
    "    \n",
    "    Args:\n",
    "        line1_p1, line1_p2: Puntos que definen la primera línea\n",
    "        line2_p1, line2_p2: Puntos que definen la segunda línea\n",
    "        \n",
    "    Returns:\n",
    "        tuple: Coordenadas (x, y) del punto de intersección o None si no hay intersección\n",
    "    \"\"\"\n",
    "    # Línea 1: (x1, y1) a (x2, y2)\n",
    "    x1, y1 = line1_p1\n",
    "    x2, y2 = line1_p2\n",
    "    \n",
    "    # Línea 2: (x3, y3) a (x4, y4)\n",
    "    x3, y3 = line2_p1\n",
    "    x4, y4 = line2_p2\n",
    "    \n",
    "    # Calcular denominador para verificar si las líneas son paralelas\n",
    "    denom = (y4 - y3) * (x2 - x1) - (x4 - x3) * (y2 - y1)\n",
    "    \n",
    "    if denom == 0:  # Líneas paralelas\n",
    "        return None\n",
    "    \n",
    "    # Calcular el punto de intersección\n",
    "    ua = ((x4 - x3) * (y1 - y3) - (y4 - y3) * (x1 - x3)) / denom\n",
    "    \n",
    "    # Punto de intersección\n",
    "    x = x1 + ua * (x2 - x1)\n",
    "    y = y1 + ua * (y2 - y1)\n",
    "    \n",
    "    return (int(x), int(y))\n",
    "\n",
    "def extend_line_to_boundaries(point1, point2, img_width, img_height, midline_x=None):\n",
    "    \"\"\"\n",
    "    Extiende una línea definida por dos puntos hasta los límites de la imagen o hasta intersectar con la línea media.\n",
    "    \n",
    "    Args:\n",
    "        point1 (tuple): Coordenadas (x, y) del primer punto.\n",
    "        point2 (tuple): Coordenadas (x, y) del segundo punto.\n",
    "        img_width (int): Ancho de la imagen.\n",
    "        img_height (int): Alto de la imagen.\n",
    "        midline_x (int, opcional): Coordenada x de la línea media. Si se proporciona, la línea se extenderá hasta esta línea.\n",
    "        \n",
    "    Returns:\n",
    "        tuple: Un par de tuplas con las coordenadas de los puntos extendidos (p1_extended, p2_extended).\n",
    "    \"\"\"\n",
    "    x1, y1 = point1\n",
    "    x2, y2 = point2\n",
    "    \n",
    "    # Si los puntos son iguales, no se puede definir una dirección\n",
    "    if x1 == x2 and y1 == y2:\n",
    "        return point1, point2\n",
    "    \n",
    "    # Calcular la dirección de la línea\n",
    "    dx = x2 - x1\n",
    "    dy = y2 - y1\n",
    "    \n",
    "    # Si la línea es vertical\n",
    "    if dx == 0:\n",
    "        # Extender hasta los bordes superior e inferior\n",
    "        return (x1, 0), (x1, img_height)\n",
    "    \n",
    "    # Calcular la pendiente y el intercepto\n",
    "    m = dy / dx\n",
    "    b = y1 - m * x1\n",
    "    \n",
    "    # Puntos extendidos\n",
    "    extended_points = []\n",
    "    \n",
    "    # Si hay una línea media definida, calcular la intersección con ella\n",
    "    if midline_x is not None:\n",
    "        # Calcular el punto de intersección con la línea media\n",
    "        y_intersect = m * midline_x + b\n",
    "        \n",
    "        # Verificar si la intersección está dentro de los límites de la imagen\n",
    "        if 0 <= y_intersect <= img_height:\n",
    "            # Determinar en qué lado de la línea media está el punto original\n",
    "            if (x1 < midline_x and x2 < midline_x) or (x1 > midline_x and x2 > midline_x):\n",
    "                # Ambos puntos están en el mismo lado de la línea media\n",
    "                # Extender hasta la línea media en una dirección\n",
    "                if x1 < midline_x:\n",
    "                    extended_points.append((midline_x, int(y_intersect)))\n",
    "                else:\n",
    "                    extended_points.append((midline_x, int(y_intersect)))\n",
    "            elif (x1 < midline_x and x2 > midline_x) or (x1 > midline_x and x2 < midline_x):\n",
    "                # No es necesario extender hasta la línea media\n",
    "                pass\n",
    "    \n",
    "    # Intersecciones con los bordes de la imagen\n",
    "    \n",
    "    # Intersección con y=0 (borde superior)\n",
    "    if abs(m) > 0.0001:  # No es una línea horizontal\n",
    "        x_top = (0 - b) / m\n",
    "        if 0 <= x_top <= img_width:\n",
    "            extended_points.append((int(x_top), 0))\n",
    "    \n",
    "    # Intersección con y=img_height (borde inferior)\n",
    "    if abs(m) > 0.0001:  # No es una línea horizontal\n",
    "        x_bottom = (img_height - b) / m\n",
    "        if 0 <= x_bottom <= img_width:\n",
    "            extended_points.append((int(x_bottom), img_height))\n",
    "    \n",
    "    # Intersección con x=0 (borde izquierdo)\n",
    "    y_left = b\n",
    "    if 0 <= y_left <= img_height:\n",
    "        extended_points.append((0, int(y_left)))\n",
    "    \n",
    "    # Intersección con x=img_width (borde derecho)\n",
    "    y_right = m * img_width + b\n",
    "    if 0 <= y_right <= img_height:\n",
    "        extended_points.append((img_width, int(y_right)))\n",
    "    \n",
    "    # Si no hay suficientes puntos de intersección, usar los puntos originales\n",
    "    if len(extended_points) < 2:\n",
    "        return point1, point2\n",
    "    \n",
    "    # Ordenar los puntos extendidos según su distancia desde el punto medio entre p1 y p2\n",
    "    midpoint = ((x1 + x2) / 2, (y1 + y2) / 2)\n",
    "    \n",
    "    # Si estamos del lado izquierdo de la línea media y queremos extender hacia la línea media\n",
    "    if midline_x is not None and (x1 < midline_x and x2 < midline_x):\n",
    "        # Encontrar el punto más cercano al borde y el punto más cercano a la línea media\n",
    "        points_sorted = sorted(extended_points, key=lambda p: p[0])  # Ordenar por coordenada x\n",
    "        return points_sorted[0], points_sorted[-1]  # El primero es el más a la izquierda, el último es el más a la derecha\n",
    "    \n",
    "    # Si estamos del lado derecho de la línea media y queremos extender hacia la línea media\n",
    "    elif midline_x is not None and (x1 > midline_x and x2 > midline_x):\n",
    "        # Encontrar el punto más cercano al borde y el punto más cercano a la línea media\n",
    "        points_sorted = sorted(extended_points, key=lambda p: p[0], reverse=True)  # Ordenar por coordenada x (reverso)\n",
    "        return points_sorted[0], points_sorted[-1]  # El primero es el más a la derecha, el último es el más a la izquierda\n",
    "    \n",
    "    # En otros casos, simplemente usar las dos intersecciones más alejadas entre sí\n",
    "    else:\n",
    "        # Calcular todas las combinaciones de distancias entre puntos\n",
    "        max_dist = 0\n",
    "        p1_ext, p2_ext = extended_points[0], extended_points[1]\n",
    "        \n",
    "        for i in range(len(extended_points)):\n",
    "            for j in range(i + 1, len(extended_points)):\n",
    "                dist = math.sqrt((extended_points[i][0] - extended_points[j][0])**2 + \n",
    "                                (extended_points[i][1] - extended_points[j][1])**2)\n",
    "                if dist > max_dist:\n",
    "                    max_dist = dist\n",
    "                    p1_ext, p2_ext = extended_points[i], extended_points[j]\n",
    "        \n",
    "        return p1_ext, p2_ext\n",
    "\n",
    "\n",
    "def get_corners(detection, side):\n",
    "    if side == 'izq':\n",
    "        return (int(detection['xmax']), int(detection['ymax'])), (int(detection['xmin']), int(detection['ymin']))\n",
    "    elif side == 'der':\n",
    "        return (int(detection['xmin']), int(detection['ymax'])), (int(detection['xmax']), int(detection['ymin']))\n",
    "    else:   \n",
    "        raise ValueError(\"Lado no válido. Debe ser 'izq' o 'der'.\")\n",
    "\n",
    "\n",
    "def segment_full_and_crop(orig_img, roi_coords):\n",
    "    # Segmenta toda la imagen y recorta ROI\n",
    "    img_rgb = cv2.cvtColor(orig_img, cv2.COLOR_BGR2RGB)\n",
    "    pil = Image.fromarray(img_rgb)\n",
    "    x = infer_transform(pil).unsqueeze(0).to(device)\n",
    "    with torch.no_grad():\n",
    "        logits = shape_unet(x)\n",
    "        probs  = torch.softmax(logits, dim=1)[0]  # [3,H,W]\n",
    "\n",
    "    # si side=='left'\n",
    "    ch = probs[1] if side=='left' else probs[2]\n",
    "    heatmap = (ch.cpu().numpy() * 255).astype(np.uint8)\n",
    "    h, w = orig_img.shape[:2]\n",
    "    heatmap_full = cv2.resize(heatmap, (w, h), interpolation=cv2.INTER_LINEAR)\n",
    "    cv2.imwrite(f\"debug/heat_full_{side}.png\", heatmap_full)\n",
    "    chan = probs[1] if side=='left' else probs[2]\n",
    "    mask = (chan.cpu().numpy() > 0.03).astype(np.uint8) * 255\n",
    "    # redimensionar a full-res\n",
    "    h,w = orig_img.shape[:2]\n",
    "    mask_full = cv2.resize(mask,(w,h),interpolation=cv2.INTER_NEAREST)\n",
    "    # recortar\n",
    "    # x1,y1,x2,y2 = roi_coords\n",
    "    return mask_full\n",
    "\n",
    "\n",
    "def calculate_angle(line_p1, line_p2, vertical_line_x):\n",
    "    \"\"\"\n",
    "    Calcula el ángulo entre una línea definida por dos puntos y una línea vertical.\n",
    "    \n",
    "    Args:\n",
    "        line_p1 (tuple): Primer punto de la línea.\n",
    "        line_p2 (tuple): Segundo punto de la línea.\n",
    "        vertical_line_x (int): Coordenada x de la línea vertical.\n",
    "        \n",
    "    Returns:\n",
    "        float: Ángulo en grados entre las líneas.\n",
    "    \"\"\"\n",
    "    # Verificar que los puntos no sean iguales\n",
    "    if line_p1[0] == line_p2[0] and line_p1[1] == line_p2[1]:\n",
    "        return 0  # No se puede calcular el ángulo si los puntos son iguales\n",
    "    \n",
    "    # Vector de la línea\n",
    "    vector_line = (line_p2[0] - line_p1[0], line_p2[1] - line_p1[1])\n",
    "    \n",
    "    # Vector de la línea vertical (0, 1) normalizado\n",
    "    vector_vertical = (0, 1)\n",
    "    \n",
    "    # Calcular el ángulo entre los vectores usando el producto punto\n",
    "    # Normalizar los vectores\n",
    "    magnitude_line = math.sqrt(vector_line[0]**2 + vector_line[1]**2)\n",
    "    \n",
    "    if magnitude_line == 0:\n",
    "        return 0\n",
    "    \n",
    "    unit_vector_line = (vector_line[0] / magnitude_line, vector_line[1] / magnitude_line)\n",
    "    \n",
    "    # Producto punto de los vectores unitarios\n",
    "    dot_product = unit_vector_line[0] * vector_vertical[0] + unit_vector_line[1] * vector_vertical[1]\n",
    "    \n",
    "    # Asegurarse de que el producto punto esté en el rango [-1, 1]\n",
    "    dot_product = max(-1.0, min(1.0, dot_product))\n",
    "    \n",
    "    # Calcular el ángulo en radianes y convertirlo a grados\n",
    "    angle_rad = math.acos(dot_product)\n",
    "    angle_deg = math.degrees(angle_rad)\n",
    "    \n",
    "    # Determinar la dirección del ángulo (positivo o negativo)\n",
    "    # Si el punto p2 está a la derecha de la línea vertical, el ángulo es positivo\n",
    "    # Si está a la izquierda, el ángulo es negativo\n",
    "    direction = 1 if (line_p1[0] < vertical_line_x and line_p2[0] > vertical_line_x) or \\\n",
    "                    (line_p1[0] > vertical_line_x and line_p2[0] < vertical_line_x and line_p1[1] > line_p2[1]) else -1\n",
    "    \n",
    "    # Ajustar el ángulo según el cuadrante\n",
    "    if unit_vector_line[0] < 0:\n",
    "        angle_deg = 180 - angle_deg\n",
    "    \n",
    "    # Asegurarse de que el ángulo esté entre 0 y 180 grados\n",
    "    if angle_deg > 90:\n",
    "        angle_deg = 180 - angle_deg\n",
    "        \n",
    "    return angle_deg * direction\n",
    "\n",
    "def process_and_draw_canine(det, orig_img, side, inc_center_x=None):\n",
    "    coords = (int(det['xmin']), int(det['ymin']), int(det['xmax']), int(det['ymax']))\n",
    "    # Extraemos Cordenadas\n",
    "    x1, y1, x2, y2 = coords\n",
    "    roi = orig_img[coords[1]:coords[3], coords[0]:coords[2]]\n",
    "    # 1) Segmentar\n",
    "    mask_roi = segment_full_and_crop(roi, coords)\n",
    "    cv2.imwrite(f\"debug/mask_roi_{side}.png\", mask_roi)\n",
    "    # 2) Extraer contorno\n",
    "    cnts,_ = cv2.findContours(mask_roi,cv2.RETR_EXTERNAL,cv2.CHAIN_APPROX_SIMPLE)\n",
    "    if not cnts: return orig_img\n",
    "    contour = max(cnts, key=cv2.contourArea).reshape(-1,2).astype(np.float32)\n",
    "    # 3) PCA\n",
    "    mean,vecs,_ = cv2.PCACompute2(contour, mean=None)\n",
    "    axis = vecs[0]\n",
    "    # 4) Extremos\n",
    "    dif = contour - mean\n",
    "    projs = dif.dot(axis.T)\n",
    "    p1 = list(contour[np.argmin(projs)].astype(int))\n",
    "    p2 = list(contour[np.argmax(projs)].astype(int))\n",
    "    if p1[1] > p2[1]: p1, p2 = p2, p1\n",
    "    \n",
    "    # Coordenadas punto 1\n",
    "    p1x = p1[0]\n",
    "    p1y = p1[1]\n",
    "    # Coordenadas punto 2\n",
    "    p2x = p2[0]\n",
    "    p2y = p2[1]\n",
    "    \n",
    "    if (side == \"izq\") and (p1x > p2x):\n",
    "        p1[1] = p2y\n",
    "        p2[1] = p1y\n",
    "    if (side == \"der\") and (p1x < p2x):\n",
    "        p1[1] = p2y\n",
    "        p2[1] = p1y\n",
    "        \n",
    "    # Ajustar a coords global\n",
    "    p1g = (p1[0]+coords[0], p1[1]+coords[1])\n",
    "    p2g = (p2[0]+coords[0], p2[1]+coords[1])\n",
    "    # 5) Dibujar\n",
    "    cv2.circle(orig_img, p1g, 4,(0,255,0),-1)\n",
    "    cv2.circle(orig_img, p2g, 4,(0,255,0),-1)\n",
    "\n",
    "    # === Agregar leyenda de los puntos ===\n",
    "    cv2.putText(orig_img, 'p1', (p1g[0] + 10, p1g[1] - 10), cv2.FONT_HERSHEY_SIMPLEX, 0.5, (0, 255, 0), 2)\n",
    "    cv2.putText(orig_img, 'p2', (p2g[0] + 10, p2g[1] - 10), cv2.FONT_HERSHEY_SIMPLEX, 0.5, (0, 255, 0), 2)\n",
    "    \n",
    "    # Extender la línea hasta los límites de la imagen o hasta la línea media\n",
    "    h, w = orig_img.shape[:2]\n",
    "    midline_x = inc_center_x if inc_center_x is not None else None\n",
    "    \n",
    "    exp1, exp2 = extend_line_to_boundaries(p1g, p2g, w, h, midline_x)\n",
    "    \n",
    "    cv2.line(orig_img, exp1, exp2, (0,0,255), 2)\n",
    "    \n",
    "    # Para los angulos\n",
    "    # Coordenada central en X\n",
    "    center_x = (x1 + x2) // 2\n",
    "    # Coordenada para poner el texto justo debajo de la caja\n",
    "    text_y = y2 + 30\n",
    "\n",
    "    if midline_x is not None:\n",
    "        midline_top = (midline_x, 0)\n",
    "        midline_bottom = (midline_x, h)\n",
    "        intersection = calculate_line_intersection(exp1, exp2, midline_top, midline_bottom)\n",
    "        \n",
    "        if intersection:\n",
    "            cv2.circle(orig_img, intersection, 6, (255, 0, 255), -1)\n",
    "            angle = calculate_angle(exp1, exp2, midline_x)\n",
    "            angle_text = f\"Angulo: {abs(angle):.1f} Deg\"\n",
    "            cv2.putText(orig_img, angle_text, \n",
    "            (center_x - 50, text_y),  # desplazamos 50 px a la izquierda para centrar mejor el texto\n",
    "            cv2.FONT_HERSHEY_SIMPLEX, 0.7, (255, 0, 255), 2)\n",
    "            \n",
    "            radius = 40\n",
    "            start_angle = 90\n",
    "            \n",
    "            if angle < 0:\n",
    "                end_angle = 90 - abs(angle)\n",
    "            else:\n",
    "                end_angle = 90 + abs(angle)\n",
    "            \n",
    "            cv2.ellipse(orig_img, intersection, (radius, radius), \n",
    "                        0, min(start_angle, end_angle), max(start_angle, end_angle), \n",
    "                        (255, 0, 255), 2)\n",
    "            \n",
    "            #cv2.putText(orig_img, \"Intersección\", \n",
    "             #          (intersection[0] + 10, intersection[1]), \n",
    "              #         cv2.FONT_HERSHEY_SIMPLEX, 0.5, (255, 0, 255), 2)\n",
    "    \n",
    "    return orig_img\n",
    "\n",
    "\n",
    "# Dibujar todas las detecciones con centros\n",
    "def draw_box(det):\n",
    "    if det['name'] not in ['inc', 'canine']:\n",
    "        x1, y1, x2, y2 = map(int, [det['xmin'], det['ymin'], det['xmax'], det['ymax']])\n",
    "        color = (0, 255, 255)\n",
    "        cv2.rectangle(orig, (x1, y1), (x2, y2), color, 2)\n",
    "        cv2.putText(orig, f\"{det['name']}: {det['confidence']:.2f}\", \n",
    "                   (x1, y1-10), cv2.FONT_HERSHEY_SIMPLEX, 0.5, color, 2)\n",
    "        c = get_center(det)\n",
    "        cv2.circle(orig, c, 5, color, -1)\n",
    "        \n",
    "# =================================================================================================\n",
    "# =================================================================================================\n",
    "# =================================================================================================\n",
    "# Bloque principal\n",
    "# 1. Mejoramiento del Trazado de lineas\n",
    "\n",
    "input_folder = 'img_test/Lote4'       # cambia por tu carpeta de entrada real\n",
    "output_folder = 'Output/prueba_modelo'     # carpeta para guardar resultados\n",
    "\n",
    "if not os.path.exists(output_folder):\n",
    "    os.makedirs(output_folder)\n",
    "\n",
    "image_files = [f for f in os.listdir(input_folder) if f.lower().endswith(('.jpg', '.png', '.jpeg'))]\n",
    "\n",
    "def get_center(detection):\n",
    "    xmin, ymin, xmax, ymax = map(int, [detection['xmin'], detection['ymin'], \n",
    "                                      detection['xmax'], detection['ymax']])\n",
    "    cx = (xmin + xmax) // 2\n",
    "    cy = (ymin + ymax) // 2\n",
    "    return (cx, cy)\n",
    "for image_name in image_files:\n",
    "    img_path = os.path.join(input_folder, image_name)\n",
    "    img = cv2.imread(img_path)\n",
    "    \n",
    "    if img is None:\n",
    "        print(f\"ERROR: No se pudo leer la imagen: {image_name}\")\n",
    "        continue\n",
    "\n",
    "    print(f\"\\nProcesando: {image_name}\")\n",
    "    orig = img.copy()\n",
    "    height, width = img.shape[:2]\n",
    "\n",
    "    # Ejecutar detección con YOLO\n",
    "    results = model(img)\n",
    "    df = results.pandas().xyxy[0]  # xmin, ymin, xmax, ymax, confidence, class, name\n",
    "\n",
    "    print(\"\\n=== RESULTADOS DE DETECCIÓN ===\")\n",
    "    print(df)\n",
    "\n",
    "    # Detecciones de incisivos y caninos\n",
    "    incisor_detections = df[df['name'] == 'inc']\n",
    "    canines = df[df['name'] == 'canine']\n",
    "\n",
    "    # Línea media desde incisivos\n",
    "    inc_center = None\n",
    "    if len(incisor_detections) > 0:\n",
    "        best_inc = incisor_detections.sort_values('confidence', ascending=False).iloc[0]\n",
    "        inc_center = get_center(best_inc)\n",
    "        # Dibujar línea media\n",
    "        cv2.line(orig, (inc_center[0], 0), (inc_center[0], height), (0, 255, 0), 2)\n",
    "        cv2.putText(orig, 'Línea media', (inc_center[0] + 10, 30),\n",
    "                    cv2.FONT_HERSHEY_SIMPLEX, 0.7, (0, 255, 0), 2)\n",
    "        print(f\"Línea media trazada en x={inc_center[0]}\")\n",
    "    else:\n",
    "        print(\"No se detectaron incisivos; no se puede trazar la línea media.\")\n",
    "        continue  # no tiene sentido seguir si no hay línea media\n",
    "\n",
    "    # Procesamiento de caninos\n",
    "    for _, det in canines.iterrows():\n",
    "        center = get_center(det)\n",
    "        side = 'izq' if center[0] < inc_center[0] else 'der'\n",
    "\n",
    "        x1, y1, x2, y2 = map(int, [det['xmin'], det['ymin'], det['xmax'], det['ymax']])\n",
    "        color = (255, 0, 0) if side == 'izq' else (0, 0, 255)\n",
    "        cv2.rectangle(orig, (x1, y1), (x2, y2), color, 2)\n",
    "\n",
    "        orig = process_and_draw_canine(det, orig, side, inc_center[0])\n",
    "\n",
    "        cv2.putText(orig, f\"Canino {side}: {det['confidence']:.2f}\", \n",
    "                    (x1, y1 - 10), cv2.FONT_HERSHEY_SIMPLEX, 0.5, color, 2)\n",
    "        cv2.circle(orig, center, 5, color, -1)\n",
    "\n",
    "    # Dibujar otras detecciones (no incisivos ni caninos)\n",
    "    for _, det in df.iterrows():\n",
    "        if det['name'] not in ['inc', 'canine']:\n",
    "            draw_box(det)\n",
    "\n",
    "    # Guardar imagen procesada\n",
    "    out_path = os.path.join(output_folder, f\"{os.path.splitext(image_name)[0]}_analizada_m2.jpg\")\n",
    "    cv2.imwrite(out_path, orig)\n",
    "    print(f\"Guardado en: {out_path}\")\n",
    "\n",
    "\n"
   ]
  },
  {
   "cell_type": "code",
   "execution_count": 24,
   "id": "9b921a86",
   "metadata": {},
   "outputs": [
    {
     "data": {
      "text/plain": [
       "6"
      ]
     },
     "execution_count": 24,
     "metadata": {},
     "output_type": "execute_result"
    }
   ],
   "source": [
    "def sm(n,m):\n",
    "    a = \"hola como estao\"\n",
    "    b = n*m\n",
    "    return a,b\n",
    "\n",
    "l,p = sm(2,3)\n",
    "\n",
    "p\n"
   ]
  }
 ],
 "metadata": {
  "kernelspec": {
   "display_name": "Python 3",
   "language": "python",
   "name": "python3"
  },
  "language_info": {
   "codemirror_mode": {
    "name": "ipython",
    "version": 3
   },
   "file_extension": ".py",
   "mimetype": "text/x-python",
   "name": "python",
   "nbconvert_exporter": "python",
   "pygments_lexer": "ipython3",
   "version": "3.12.3"
  }
 },
 "nbformat": 4,
 "nbformat_minor": 5
}
